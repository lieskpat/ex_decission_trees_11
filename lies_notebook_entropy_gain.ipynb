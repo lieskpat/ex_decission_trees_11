{
 "cells": [
  {
   "cell_type": "code",
   "execution_count": null,
   "metadata": {},
   "outputs": [],
   "source": [
    "# Berechnung von Entropy und Gain erfolgte über unten stehende Methoden\n",
    "# Ergebnisse wurden PDF übernommen\n",
    "# alles von Hand zu rechnen war mir doch zu viel Arbeit"
   ]
  },
  {
   "cell_type": "code",
   "execution_count": 1,
   "metadata": {},
   "outputs": [],
   "source": [
    "from math import log\n",
    "\n",
    "\n",
    "def entropy(pi):\n",
    "\n",
    "    total = 0\n",
    "    for p in pi:\n",
    "        p = p / sum(pi)\n",
    "        if p != 0:\n",
    "            total += p * log(p, 2)\n",
    "        else:\n",
    "            total += 0\n",
    "    total *= -1\n",
    "    return total\n",
    "\n",
    "def gain(d, a):\n",
    "    \n",
    "    total = 0\n",
    "    for v in a:\n",
    "        total += sum(v) / sum(d) * entropy(v)\n",
    "\n",
    "    gain = entropy(d) - total\n",
    "    return gain\n"
   ]
  },
  {
   "cell_type": "code",
   "execution_count": 2,
   "metadata": {},
   "outputs": [
    {
     "name": "stdout",
     "output_type": "stream",
     "text": [
      "0.3709505944546686\n"
     ]
    }
   ],
   "source": [
    "d = [12, 8]\n",
    "a = [[2, 6], [6, 0], [4, 2]]\n",
    "print(gain(d, a))"
   ]
  },
  {
   "cell_type": "code",
   "execution_count": 3,
   "metadata": {},
   "outputs": [
    {
     "name": "stdout",
     "output_type": "stream",
     "text": [
      "0.0016094970590274649\n"
     ]
    }
   ],
   "source": [
    "d = [12, 8]\n",
    "a = [[3, 2], [5, 3], [4, 3]]\n",
    "print(gain(d, a))"
   ]
  },
  {
   "cell_type": "code",
   "execution_count": 4,
   "metadata": {},
   "outputs": [
    {
     "name": "stdout",
     "output_type": "stream",
     "text": [
      "0.2243711762752758\n"
     ]
    }
   ],
   "source": [
    "d = [12, 8]\n",
    "a = [[4, 7], [8, 1]]\n",
    "print(gain(d, a))"
   ]
  },
  {
   "cell_type": "code",
   "execution_count": 5,
   "metadata": {},
   "outputs": [
    {
     "name": "stdout",
     "output_type": "stream",
     "text": [
      "0.03030514483932223\n"
     ]
    }
   ],
   "source": [
    "d = [12, 8]\n",
    "a = [[7, 3], [5, 5]]\n",
    "print(gain(d, a))"
   ]
  },
  {
   "cell_type": "code",
   "execution_count": 6,
   "metadata": {},
   "outputs": [
    {
     "name": "stdout",
     "output_type": "stream",
     "text": [
      "1.0\n"
     ]
    }
   ],
   "source": [
    "a = [5, 5]\n",
    "print(entropy(a))"
   ]
  },
  {
   "cell_type": "code",
   "execution_count": 7,
   "metadata": {},
   "outputs": [
    {
     "name": "stdout",
     "output_type": "stream",
     "text": [
      "0.8112781244591328\n"
     ]
    }
   ],
   "source": [
    "age = [2, 6]\n",
    "print(entropy(age))"
   ]
  },
  {
   "cell_type": "code",
   "execution_count": 8,
   "metadata": {},
   "outputs": [
    {
     "name": "stdout",
     "output_type": "stream",
     "text": [
      "0.12255624891826566\n"
     ]
    }
   ],
   "source": [
    "d = [2, 6]\n",
    "a = [[0, 2], [1, 2], [1,2]]\n",
    "print(gain(d, a))"
   ]
  },
  {
   "cell_type": "code",
   "execution_count": 9,
   "metadata": {},
   "outputs": [
    {
     "name": "stdout",
     "output_type": "stream",
     "text": [
      "0.8112781244591328\n"
     ]
    }
   ],
   "source": [
    "d = [2, 6]\n",
    "a = [[2, 0], [0, 6]]\n",
    "print(gain(d, a))"
   ]
  },
  {
   "cell_type": "code",
   "execution_count": 10,
   "metadata": {},
   "outputs": [
    {
     "name": "stdout",
     "output_type": "stream",
     "text": [
      "0.0\n"
     ]
    }
   ],
   "source": [
    "d = [2, 6]\n",
    "a = [[1, 3], [1, 3]]\n",
    "print(gain(d, a))"
   ]
  },
  {
   "cell_type": "code",
   "execution_count": 11,
   "metadata": {},
   "outputs": [
    {
     "name": "stdout",
     "output_type": "stream",
     "text": [
      "0.9182958340544896\n"
     ]
    }
   ],
   "source": [
    "a = [4, 2]\n",
    "print(entropy(a))"
   ]
  },
  {
   "cell_type": "code",
   "execution_count": 12,
   "metadata": {},
   "outputs": [
    {
     "name": "stdout",
     "output_type": "stream",
     "text": [
      "0.044110417748401076\n"
     ]
    }
   ],
   "source": [
    "d = [4, 2]\n",
    "a = [[3, 1], [1, 1]]\n",
    "print(gain(d, a))"
   ]
  },
  {
   "cell_type": "code",
   "execution_count": 13,
   "metadata": {},
   "outputs": [
    {
     "name": "stdout",
     "output_type": "stream",
     "text": [
      "0.4591479170272448\n"
     ]
    }
   ],
   "source": [
    "d = [4, 2]\n",
    "a = [[3, 0], [1, 2]]\n",
    "print(gain(d, a))"
   ]
  },
  {
   "cell_type": "code",
   "execution_count": 14,
   "metadata": {},
   "outputs": [
    {
     "name": "stdout",
     "output_type": "stream",
     "text": [
      "0.9182958340544896\n"
     ]
    }
   ],
   "source": [
    "a = [1, 2]\n",
    "print(entropy(a))"
   ]
  },
  {
   "cell_type": "code",
   "execution_count": 15,
   "metadata": {},
   "outputs": [
    {
     "name": "stdout",
     "output_type": "stream",
     "text": [
      "0.0\n"
     ]
    }
   ],
   "source": [
    "d = [1, 2]\n",
    "a = [[1, 2]]\n",
    "print(gain(d, a))"
   ]
  },
  {
   "cell_type": "code",
   "execution_count": 16,
   "metadata": {},
   "outputs": [
    {
     "name": "stdout",
     "output_type": "stream",
     "text": [
      "0.2516291673878229\n"
     ]
    }
   ],
   "source": [
    "d = [1, 2]\n",
    "a = [[0, 1], [1, 1]]\n",
    "print(gain(d, a))"
   ]
  },
  {
   "cell_type": "code",
   "execution_count": 17,
   "metadata": {},
   "outputs": [
    {
     "name": "stdout",
     "output_type": "stream",
     "text": [
      "0.2516291673878229\n"
     ]
    }
   ],
   "source": [
    "d = [1, 2]\n",
    "a = [[1, 1], [0, 1]]\n",
    "print(gain(d, a))"
   ]
  },
  {
   "cell_type": "code",
   "execution_count": 18,
   "metadata": {},
   "outputs": [
    {
     "name": "stdout",
     "output_type": "stream",
     "text": [
      "1.0\n"
     ]
    }
   ],
   "source": [
    "a = [1, 1]\n",
    "print(entropy(a))"
   ]
  },
  {
   "cell_type": "code",
   "execution_count": 19,
   "metadata": {},
   "outputs": [
    {
     "name": "stdout",
     "output_type": "stream",
     "text": [
      "0.0\n"
     ]
    }
   ],
   "source": [
    "d = [1, 1]\n",
    "a = [[1, 1]]\n",
    "print(gain(d, a))"
   ]
  },
  {
   "cell_type": "code",
   "execution_count": null,
   "metadata": {},
   "outputs": [],
   "source": []
  }
 ],
 "metadata": {
  "kernelspec": {
   "display_name": "Python 3",
   "language": "python",
   "name": "python3"
  },
  "language_info": {
   "codemirror_mode": {
    "name": "ipython",
    "version": 3
   },
   "file_extension": ".py",
   "mimetype": "text/x-python",
   "name": "python",
   "nbconvert_exporter": "python",
   "pygments_lexer": "ipython3",
   "version": "3.7.7"
  }
 },
 "nbformat": 4,
 "nbformat_minor": 4
}
